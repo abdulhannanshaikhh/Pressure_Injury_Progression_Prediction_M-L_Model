{
 "cells": [
  {
   "cell_type": "code",
   "execution_count": 31,
   "id": "74414405-9aac-49bd-840a-b3d299b7c7cf",
   "metadata": {},
   "outputs": [],
   "source": [
    "import pandas as pd\n",
    "import numpy as np\n",
    "from sklearn.model_selection import train_test_split\n",
    " \n",
    "from sklearn.ensemble import RandomForestRegressor, RandomForestClassifier\n",
    "from sklearn.metrics import roc_auc_score, accuracy_score"
   ]
  },
  {
   "cell_type": "code",
   "execution_count": 32,
   "id": "a0cdfd71-fd20-4ba5-8afa-4df1b7f0d146",
   "metadata": {},
   "outputs": [
    {
     "data": {
      "text/html": [
       "<div>\n",
       "<style scoped>\n",
       "    .dataframe tbody tr th:only-of-type {\n",
       "        vertical-align: middle;\n",
       "    }\n",
       "\n",
       "    .dataframe tbody tr th {\n",
       "        vertical-align: top;\n",
       "    }\n",
       "\n",
       "    .dataframe thead th {\n",
       "        text-align: right;\n",
       "    }\n",
       "</style>\n",
       "<table border=\"1\" class=\"dataframe\">\n",
       "  <thead>\n",
       "    <tr style=\"text-align: right;\">\n",
       "      <th></th>\n",
       "      <th>score</th>\n",
       "      <th>std</th>\n",
       "      <th>label_num</th>\n",
       "      <th>IR_file</th>\n",
       "    </tr>\n",
       "    <tr>\n",
       "      <th>date</th>\n",
       "      <th></th>\n",
       "      <th></th>\n",
       "      <th></th>\n",
       "      <th></th>\n",
       "    </tr>\n",
       "  </thead>\n",
       "  <tbody>\n",
       "    <tr>\n",
       "      <th>2021-08-07 00:00:00</th>\n",
       "      <td>-0.303883</td>\n",
       "      <td>0.254951</td>\n",
       "      <td>15</td>\n",
       "      <td>2021-08-07-0004.txt</td>\n",
       "    </tr>\n",
       "    <tr>\n",
       "      <th>2021-08-07 00:01:00</th>\n",
       "      <td>-0.303947</td>\n",
       "      <td>0.254479</td>\n",
       "      <td>15</td>\n",
       "      <td>2021-08-07-0004.txt</td>\n",
       "    </tr>\n",
       "    <tr>\n",
       "      <th>2021-08-07 00:02:00</th>\n",
       "      <td>-0.304012</td>\n",
       "      <td>0.254007</td>\n",
       "      <td>15</td>\n",
       "      <td>2021-08-07-0004.txt</td>\n",
       "    </tr>\n",
       "  </tbody>\n",
       "</table>\n",
       "</div>"
      ],
      "text/plain": [
       "                        score       std  label_num              IR_file\n",
       "date                                                                   \n",
       "2021-08-07 00:00:00 -0.303883  0.254951         15  2021-08-07-0004.txt\n",
       "2021-08-07 00:01:00 -0.303947  0.254479         15  2021-08-07-0004.txt\n",
       "2021-08-07 00:02:00 -0.304012  0.254007         15  2021-08-07-0004.txt"
      ]
     },
     "execution_count": 32,
     "metadata": {},
     "output_type": "execute_result"
    }
   ],
   "source": [
    "csv_data = pd.read_csv('pressure_injury(Organized Dataset).csv')\n",
    "\n",
    "# Correct date format: %d-%m-%Y\n",
    "csv_data['date'] = pd.to_datetime(csv_data['date'], format=\"%d-%m-%Y %H:%M\")\n",
    "\n",
    "csv_data.set_index('date', inplace=True)\n",
    "csv_data.head(3)\n"
   ]
  },
  {
   "cell_type": "code",
   "execution_count": 33,
   "id": "6b0d2f2f-4649-4490-8634-64826b3d847f",
   "metadata": {},
   "outputs": [
    {
     "name": "stdout",
     "output_type": "stream",
     "text": [
      "            2021-08-07  2021-08-08  2021-08-09  2021-08-10  2021-08-11  \\\n",
      "2021-08-07   19.364075         NaN         NaN         NaN         NaN   \n",
      "2021-08-08         NaN   18.762688         NaN         NaN         NaN   \n",
      "2021-08-09         NaN         NaN   19.186729         NaN         NaN   \n",
      "2021-08-10         NaN         NaN         NaN   19.216633         NaN   \n",
      "2021-08-11         NaN         NaN         NaN         NaN   18.209993   \n",
      "\n",
      "            2021-08-12  2021-08-13  2021-08-14  2021-08-15  2021-08-16  ...  \\\n",
      "2021-08-07         NaN         NaN         NaN         NaN         NaN  ...   \n",
      "2021-08-08         NaN         NaN         NaN         NaN         NaN  ...   \n",
      "2021-08-09         NaN         NaN         NaN         NaN         NaN  ...   \n",
      "2021-08-10         NaN         NaN         NaN         NaN         NaN  ...   \n",
      "2021-08-11         NaN         NaN         NaN         NaN         NaN  ...   \n",
      "\n",
      "            2021-09-11  2021-09-12  2021-09-13  2021-09-14  2021-09-15  \\\n",
      "2021-08-07         NaN         NaN         NaN         NaN         NaN   \n",
      "2021-08-08         NaN         NaN         NaN         NaN         NaN   \n",
      "2021-08-09         NaN         NaN         NaN         NaN         NaN   \n",
      "2021-08-10         NaN         NaN         NaN         NaN         NaN   \n",
      "2021-08-11         NaN         NaN         NaN         NaN         NaN   \n",
      "\n",
      "            2021-09-16  2021-09-17  2021-09-18  2021-09-19  2021-09-20  \n",
      "2021-08-07         NaN         NaN         NaN         NaN         NaN  \n",
      "2021-08-08         NaN         NaN         NaN         NaN         NaN  \n",
      "2021-08-09         NaN         NaN         NaN         NaN         NaN  \n",
      "2021-08-10         NaN         NaN         NaN         NaN         NaN  \n",
      "2021-08-11         NaN         NaN         NaN         NaN         NaN  \n",
      "\n",
      "[5 rows x 45 columns]\n"
     ]
    }
   ],
   "source": [
    "def load_h5_data(file_path):\n",
    "    try:\n",
    "        df = pd.read_hdf(file_path, 'df')\n",
    "        return df\n",
    "    except Exception as e:\n",
    "        print(f\"Error loading file {file_path}: {e}\")\n",
    "        return None\n",
    "\n",
    "# Extract Features\n",
    "def extract_features(h5_data):\n",
    "    if h5_data is not None:\n",
    "        daily_avg_temp = h5_data.mean(axis=1)\n",
    "        daily_avg_temp\n",
    "        if not isinstance(daily_avg_temp.index, pd.DatetimeIndex):\n",
    "            daily_avg_temp.index = pd.to_datetime(daily_avg_temp.index)\n",
    "        return daily_avg_temp.resample('D').mean()\n",
    "    return None\n",
    "\n",
    "# Mapping Dates to File Paths\n",
    "h5_files = {\n",
    "        '2021-08-07': 'IR_data/2021-08-07-0004.h5',\n",
    "    '2021-08-08': 'IR_data/2021-08-08-0004.h5',\n",
    "    '2021-08-09': 'IR_data/2021-08-09-0004.h5',\n",
    "    '2021-08-10': 'IR_data/2021-08-10-0004.h5',\n",
    "    '2021-08-11': 'IR_data/2021-08-11-0004.h5',\n",
    "    '2021-08-12': 'IR_data/2021-08-12-0004.h5',\n",
    "    '2021-08-13': 'IR_data/2021-08-13-0004.h5',\n",
    "    '2021-08-14': 'IR_data/2021-08-14-0004.h5',\n",
    "    '2021-08-15': 'IR_data/2021-08-15-0004.h5',\n",
    "    '2021-08-16': 'IR_data/2021-08-16-0004.h5',\n",
    "    '2021-08-17': 'IR_data/2021-08-17-0004.h5',\n",
    "    '2021-08-18': 'IR_data/2021-08-18-0004.h5',\n",
    "    '2021-08-19': 'IR_data/2021-08-19-0004.h5',\n",
    "    '2021-08-20': 'IR_data/2021-08-20-0004.h5',\n",
    "    '2021-08-21': 'IR_data/2021-08-21-0004.h5',\n",
    "    '2021-08-22': 'IR_data/2021-08-22-0004.h5',\n",
    "    '2021-08-23': 'IR_data/2021-08-23-0004.h5',\n",
    "    '2021-08-24': 'IR_data/2021-08-24-0004.h5',\n",
    "    '2021-08-25': 'IR_data/2021-08-25-0004.h5',\n",
    "    '2021-08-26': 'IR_data/2021-08-26-0004.h5',\n",
    "    '2021-08-27': 'IR_data/2021-08-27-0004.h5',\n",
    "    '2021-08-28': 'IR_data/2021-08-28-0004.h5',\n",
    "    '2021-08-29': 'IR_data/2021-08-29-0004.h5',\n",
    "    '2021-08-30': 'IR_data/2021-08-30-0004.h5',\n",
    "    '2021-08-31': 'IR_data/2021-08-31-0004.h5',\n",
    "    '2021-09-01': 'IR_data/2021-09-01-0004.h5',\n",
    "    '2021-09-02': 'IR_data/2021-09-02-0004.h5',\n",
    "    '2021-09-03': 'IR_data/2021-09-03-0004.h5',\n",
    "    '2021-09-04': 'IR_data/2021-09-04-0004.h5',\n",
    "    '2021-09-05': 'IR_data/2021-09-05-0004.h5',\n",
    "    '2021-09-06': 'IR_data/2021-09-06-0004.h5',\n",
    "    '2021-09-07': 'IR_data/2021-09-07-0004.h5',\n",
    "    '2021-09-08': 'IR_data/2021-09-08-0004.h5',\n",
    "    '2021-09-09': 'IR_data/2021-09-09-0004.h5',\n",
    "    '2021-09-10': 'IR_data/2021-09-10-0004.h5',\n",
    "    '2021-09-11': 'IR_data/2021-09-11-0004.h5',\n",
    "    '2021-09-12': 'IR_data/2021-09-12-0004.h5',\n",
    "    '2021-09-13': 'IR_data/2021-09-13-0004.h5',\n",
    "    '2021-09-14': 'IR_data/2021-09-14-0004.h5',\n",
    "    '2021-09-15': 'IR_data/2021-09-15-0004.h5',\n",
    "    '2021-09-16': 'IR_data/2021-09-16-0004.h5',\n",
    "    '2021-09-17': 'IR_data/2021-09-17-0004.h5',\n",
    "    '2021-09-18': 'IR_data/2021-09-18-0004.h5',\n",
    "    '2021-09-19': 'IR_data/2021-09-19-0004.h5',\n",
    "    '2021-09-20': 'IR_data/2021-09-20-0004.h5',\n",
    "}\n",
    "\n",
    "features = []\n",
    "for date, file_path in h5_files.items():\n",
    "    h5_data = load_h5_data(file_path)\n",
    "    temp_features = extract_features(h5_data)\n",
    "    if temp_features is not None:\n",
    "        temp_features.name = date\n",
    "        features.append(temp_features)\n",
    "\n",
    "# Combine Features\n",
    "if features:\n",
    "    combined_features = pd.concat(features, axis=1).T\n",
    "    training_data = csv_data.join(combined_features)\n",
    "    print(combined_features.head())\n",
    "else:\n",
    "    print(\"No features were extracted.\")"
   ]
  },
  {
   "cell_type": "code",
   "execution_count": 34,
   "id": "27b3bdfe-8039-4606-a306-3253aa9fa70d",
   "metadata": {},
   "outputs": [],
   "source": [
    "X = training_data.drop(columns=['score']).reset_index(drop=True)\n",
    "X = X.select_dtypes(include=[np.number])\n",
    "X.columns = X.columns.astype(str)\n",
    "y = training_data['score']\n",
    "\n",
    "# Binarize the target variable for classification\n",
    "y_binary = (y > 0).astype(int)"
   ]
  },
  {
   "cell_type": "code",
   "execution_count": 35,
   "id": "82b1fb6a-29b6-498b-b0ec-cf2067baec8e",
   "metadata": {},
   "outputs": [],
   "source": [
    "X_train, X_test, y_train, y_test = train_test_split(X, y, test_size=0.1, stratify=y_binary, shuffle=True)\n",
    "\n",
    "# Train the RandomForestRegressor model\n",
    "model = RandomForestRegressor()\n",
    "model.fit(X_train, y_train)\n",
    "y_pred = model.predict(X_test)"
   ]
  },
  {
   "cell_type": "code",
   "execution_count": 36,
   "id": "7c6ada3b-bb6b-4969-b98b-7c452bdb032b",
   "metadata": {},
   "outputs": [],
   "source": [
    "new_h5_data = load_h5_data('IR_data/2021-09-21-0004.h5')\n",
    "new_features = extract_features(new_h5_data)\n",
    "if isinstance(new_features, pd.Series):\n",
    "    new_features = new_features.to_frame().T\n",
    "new_features = new_features.reindex(columns=X_train.columns, fill_value=0)\n",
    "new_score_prediction = model.predict(new_features)[0]"
   ]
  },
  {
   "cell_type": "code",
   "execution_count": 37,
   "id": "fcce0549-b4c3-4a95-8dbd-88262513213c",
   "metadata": {},
   "outputs": [
    {
     "name": "stdout",
     "output_type": "stream",
     "text": [
      "The condition is predicted to be: no change\n"
     ]
    }
   ],
   "source": [
    "#Prediction\n",
    "if new_score_prediction < 0:\n",
    "    result = \"worst\"\n",
    "elif 0 <= new_score_prediction <= 1:\n",
    "    result = \"no change\"\n",
    "elif new_score_prediction > 1:\n",
    "    result = \"better\"\n",
    "else:\n",
    "    result = \"undefined\"\n",
    "\n",
    "print(f\"The condition is predicted to be: {result}\")"
   ]
  },
  {
   "cell_type": "code",
   "execution_count": 38,
   "id": "15718618-96ef-4283-b34e-2f9dbbaae59e",
   "metadata": {},
   "outputs": [
    {
     "data": {
      "image/png": "[encoded data removed]",
      "text/plain": [
       "<Figure size 800x600 with 2 Axes>"
      ]
     },
     "metadata": {},
     "output_type": "display_data"
    },
    {
     "name": "stdout",
     "output_type": "stream",
     "text": [
      "AUC-ROC Score: 0.9602\n",
      "Accuracy: 0.8986\n"
     ]
    }
   ],
   "source": [
    "import matplotlib.pyplot as plt\n",
    "import seaborn as sns\n",
    "from sklearn.metrics import confusion_matrix, accuracy_score, roc_auc_score\n",
    "\n",
    "# Train the classifier\n",
    "classifier = RandomForestClassifier()\n",
    "classifier.fit(X_train, (y_train > 0).astype(int))\n",
    "\n",
    "# Predict the binary classes for the test set\n",
    "y_test_binary = (y_pred > 0).astype(int)\n",
    "y_pred_binary = classifier.predict(X_test)\n",
    "\n",
    "# Calculate the confusion matrix\n",
    "conf_matrix = confusion_matrix(y_test_binary, y_pred_binary)\n",
    "\n",
    "# Plot the confusion matrix\n",
    "plt.figure(figsize=(8, 6))\n",
    "sns.heatmap(conf_matrix, annot=True, fmt='d', cmap='Blues', xticklabels=['No Improvement', 'Improvement'], yticklabels=['No Improvement', 'Improvement'])\n",
    "plt.xlabel('Predicted')\n",
    "plt.ylabel('Actual')\n",
    "plt.title('Confusion Matrix')\n",
    "plt.show()\n",
    "\n",
    "# Calculate and print AUC-ROC and Accuracy\n",
    "if len(np.unique(y_test_binary)) < 2:\n",
    "    print(\"AUC-ROC cannot be calculated because only one class is present.\")\n",
    "else:\n",
    "    y_pred_proba = classifier.predict_proba(X_test)[:, 1]\n",
    "    aucroc = roc_auc_score(y_test_binary, y_pred_proba)\n",
    "    print(f\"AUC-ROC Score: {aucroc:.4f}\")\n",
    "\n",
    "accuracy = accuracy_score(y_test_binary, y_pred_binary)\n",
    "print(f\"Accuracy: {accuracy:.4f}\")\n"
   ]
  },
  {
   "cell_type": "code",
   "execution_count": 39,
   "id": "ecc86541-c67e-4fd9-a700-a9a07b5ebbe7",
   "metadata": {},
   "outputs": [
    {
     "name": "stdout",
     "output_type": "stream",
     "text": [
      "Class distribution in y_test_binary: [1286 5194]\n",
      "AUC-ROC Score: 0.9607\n",
      "Accuracy: 0.8986\n"
     ]
    }
   ],
   "source": [
    "classifier = RandomForestClassifier()\n",
    "classifier.fit(X_train, (y_train > 0).astype(int))\n",
    "\n",
    "# Checking class distribution in the test set\n",
    "y_test_binary = (y_pred > 0).astype(int)\n",
    "print(f\"Class distribution in y_test_binary: {np.bincount(y_test_binary)}\")\n",
    "\n",
    "if len(np.unique(y_test_binary)) < 2:\n",
    "    print(\"AUC-ROC cannot be calculated because only one class is present.\")\n",
    "else:\n",
    "    y_pred_proba = classifier.predict_proba(X_test)[:, 1]\n",
    "    aucroc = roc_auc_score(y_test_binary, y_pred_proba)\n",
    "    print(f\"AUC-ROC Score: {aucroc:.4f}\")\n",
    "\n",
    "    # Optionally, calculate other metrics\n",
    "    accuracy = accuracy_score(y_test_binary, classifier.predict(X_test))\n",
    "\n",
    "    print(f\"Accuracy: {accuracy:.4f}\")"
   ]
  }
 ],
 "metadata": {
  "kernelspec": {
   "display_name": "Python 3 (ipykernel)",
   "language": "python",
   "name": "python3"
  },
  "language_info": {
   "codemirror_mode": {
    "name": "ipython",
    "version": 3
   },
   "file_extension": ".py",
   "mimetype": "text/x-python",
   "name": "python",
   "nbconvert_exporter": "python",
   "pygments_lexer": "ipython3",
   "version": "3.12.5"
  }
 },
 "nbformat": 4,
 "nbformat_minor": 5
}
