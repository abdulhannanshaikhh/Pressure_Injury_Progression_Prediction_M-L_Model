{
 "cells": [
  {
   "cell_type": "code",
   "execution_count": 1,
   "id": "fa666ffd-408b-4c92-ba32-68c4b365b3a8",
   "metadata": {},
   "outputs": [
    {
     "name": "stdout",
     "output_type": "stream",
     "text": [
      "Structure of IR_data/2021-08-07-0004.h5:\n",
      " {'df': None, 'df/axis0': (768,), 'df/axis1': (86400,), 'df/block0_items': (768,), 'df/block0_values': (86400, 768)}\n",
      "                       mean000    mean001    mean002    mean003    mean004  \\\n",
      "1628294400000000000  17.828125  17.796875  18.468750  18.515625  19.625000   \n",
      "1628294401000000000  17.796875  17.234375  18.640625  18.546875  18.203125   \n",
      "1628294402000000000  17.953125  17.531250  18.453125  17.812500  18.953125   \n",
      "1628294403000000000  18.031250  15.750000  17.718750  18.625000  19.046875   \n",
      "1628294404000000000  17.500000  17.968750  18.312500  17.750000  18.875000   \n",
      "\n",
      "                       mean005    mean006    mean007    mean008    mean009  \\\n",
      "1628294400000000000  19.578125  20.109375  19.312500  19.218750  18.828125   \n",
      "1628294401000000000  17.890625  18.687500  18.437500  19.546875  18.640625   \n",
      "1628294402000000000  18.328125  18.734375  18.625000  19.484375  18.671875   \n",
      "1628294403000000000  18.375000  19.093750  19.015625  19.500000  18.968750   \n",
      "1628294404000000000  18.937500  19.203125  18.828125  19.406250  18.859375   \n",
      "\n",
      "                     ...    mean758    mean759    mean760    mean761  \\\n",
      "1628294400000000000  ...  19.234375  19.765625  19.843750  19.234375   \n",
      "1628294401000000000  ...  19.437500  19.234375  19.828125  19.406250   \n",
      "1628294402000000000  ...  18.921875  19.546875  19.312500  19.765625   \n",
      "1628294403000000000  ...  19.312500  19.390625  19.578125  19.687500   \n",
      "1628294404000000000  ...  19.468750  19.312500  20.078125  19.062500   \n",
      "\n",
      "                       mean762    mean763    mean764    mean765    mean766  \\\n",
      "1628294400000000000  19.796875  18.937500  19.359375  18.843750  18.750000   \n",
      "1628294401000000000  20.218750  19.406250  19.453125  19.281250  18.984375   \n",
      "1628294402000000000  19.765625  19.656250  18.812500  19.046875  18.484375   \n",
      "1628294403000000000  19.984375  19.453125  19.109375  19.187500  19.015625   \n",
      "1628294404000000000  20.031250  18.968750  19.750000  19.031250  18.843750   \n",
      "\n",
      "                       mean767  \n",
      "1628294400000000000  19.218750  \n",
      "1628294401000000000  19.203125  \n",
      "1628294402000000000  18.875000  \n",
      "1628294403000000000  19.000000  \n",
      "1628294404000000000  18.593750  \n",
      "\n",
      "[5 rows x 768 columns]\n"
     ]
    }
   ],
   "source": [
    "import h5py\n",
    "import numpy as np\n",
    "import pandas as pd\n",
    "\n",
    "# Function to explore and extract data from an .h5 file and return a DataFrame\n",
    "def explore_h5_file(file_path):\n",
    "    with h5py.File(file_path, 'r') as h5file:\n",
    "        # Explore structure\n",
    "        structure = {}\n",
    "        h5file.visititems(lambda name, obj: structure.update({name: obj.shape if isinstance(obj, h5py.Dataset) else None}))\n",
    "        print(f\"Structure of {file_path}:\\n\", structure)\n",
    "        \n",
    "        # Extract data\n",
    "        data_values = h5file['df/block0_values'][:].astype(np.float64)  # Convert to float64 to prevent overflow\n",
    "        row_labels = h5file['df/axis1'][:]\n",
    "        col_labels = h5file['df/block0_items'][:]\n",
    "        \n",
    "        # Convert byte strings to normal strings\n",
    "        col_labels = [label.decode('utf-8') if isinstance(label, bytes) else label for label in col_labels]\n",
    "        \n",
    "        # Reconstruct DataFrame\n",
    "        df = pd.DataFrame(data_values, columns=col_labels, index=row_labels)\n",
    "        \n",
    "    return df\n",
    "\n",
    "# Example usage\n",
    "file_path = 'IR_data/2021-08-07-0004.h5'\n",
    "df = explore_h5_file(file_path)\n",
    "print(df.head())"
   ]
  },
  {
   "cell_type": "code",
   "execution_count": 2,
   "id": "8b3aca03-1a3a-45c7-a324-53fdb5d95c31",
   "metadata": {},
   "outputs": [],
   "source": [
    "import pandas as pd\n",
    "import numpy as np\n",
    "from sklearn.model_selection import train_test_split\n",
    " \n",
    "from sklearn.ensemble import RandomForestRegressor, RandomForestClassifier\n",
    "from sklearn.metrics import roc_auc_score, accuracy_score"
   ]
  },
  {
   "cell_type": "code",
   "execution_count": 3,
   "id": "68c02957-2391-403d-af4d-b22aed0a25a4",
   "metadata": {},
   "outputs": [
    {
     "name": "stderr",
     "output_type": "stream",
     "text": [
      "C:\\Users\\Personal\\AppData\\Local\\Temp\\ipykernel_15788\\3905292426.py:1: DtypeWarning: Columns (4) have mixed types. Specify dtype option on import or set low_memory=False.\n",
      "  csv_data = pd.read_csv('pressure_injury(Dis-Organized Dataset).csv')\n"
     ]
    },
    {
     "data": {
      "text/html": [
       "<div>\n",
       "<style scoped>\n",
       "    .dataframe tbody tr th:only-of-type {\n",
       "        vertical-align: middle;\n",
       "    }\n",
       "\n",
       "    .dataframe tbody tr th {\n",
       "        vertical-align: top;\n",
       "    }\n",
       "\n",
       "    .dataframe thead th {\n",
       "        text-align: right;\n",
       "    }\n",
       "</style>\n",
       "<table border=\"1\" class=\"dataframe\">\n",
       "  <thead>\n",
       "    <tr style=\"text-align: right;\">\n",
       "      <th></th>\n",
       "      <th>score</th>\n",
       "      <th>std</th>\n",
       "      <th>label_num</th>\n",
       "      <th>IR_file</th>\n",
       "    </tr>\n",
       "    <tr>\n",
       "      <th>date</th>\n",
       "      <th></th>\n",
       "      <th></th>\n",
       "      <th></th>\n",
       "      <th></th>\n",
       "    </tr>\n",
       "  </thead>\n",
       "  <tbody>\n",
       "    <tr>\n",
       "      <th>2021-03-30 09:00:00</th>\n",
       "      <td>0.000000</td>\n",
       "      <td>0.000000</td>\n",
       "      <td>0</td>\n",
       "      <td>NaN</td>\n",
       "    </tr>\n",
       "    <tr>\n",
       "      <th>2021-03-30 09:01:00</th>\n",
       "      <td>0.000243</td>\n",
       "      <td>0.000278</td>\n",
       "      <td>0</td>\n",
       "      <td>NaN</td>\n",
       "    </tr>\n",
       "    <tr>\n",
       "      <th>2021-03-30 09:02:00</th>\n",
       "      <td>0.000486</td>\n",
       "      <td>0.000556</td>\n",
       "      <td>0</td>\n",
       "      <td>NaN</td>\n",
       "    </tr>\n",
       "  </tbody>\n",
       "</table>\n",
       "</div>"
      ],
      "text/plain": [
       "                        score       std  label_num IR_file\n",
       "date                                                      \n",
       "2021-03-30 09:00:00  0.000000  0.000000          0     NaN\n",
       "2021-03-30 09:01:00  0.000243  0.000278          0     NaN\n",
       "2021-03-30 09:02:00  0.000486  0.000556          0     NaN"
      ]
     },
     "execution_count": 3,
     "metadata": {},
     "output_type": "execute_result"
    }
   ],
   "source": [
    "csv_data = pd.read_csv('pressure_injury(Dis-Organized Dataset).csv')\n",
    "\n",
    "# Correct date format: %d-%m-%Y\n",
    "csv_data['date'] = pd.to_datetime(csv_data['date'], format=\"%d-%m-%Y %H:%M\")\n",
    "\n",
    "csv_data.set_index('date', inplace=True)\n",
    "csv_data.head(3)\n"
   ]
  },
  {
   "cell_type": "code",
   "execution_count": 4,
   "id": "1909f657-21dd-4b05-8813-1496dace4450",
   "metadata": {},
   "outputs": [
    {
     "name": "stdout",
     "output_type": "stream",
     "text": [
      "            2021-08-07  2021-08-08  2021-08-09  2021-08-10  2021-08-11  \\\n",
      "2021-08-07   19.364075         NaN         NaN         NaN         NaN   \n",
      "2021-08-08         NaN   18.762688         NaN         NaN         NaN   \n",
      "2021-08-09         NaN         NaN   19.186729         NaN         NaN   \n",
      "2021-08-10         NaN         NaN         NaN   19.216633         NaN   \n",
      "2021-08-11         NaN         NaN         NaN         NaN   18.209993   \n",
      "\n",
      "            2021-08-12  2021-08-13  2021-08-14  2021-08-15  2021-08-16  ...  \\\n",
      "2021-08-07         NaN         NaN         NaN         NaN         NaN  ...   \n",
      "2021-08-08         NaN         NaN         NaN         NaN         NaN  ...   \n",
      "2021-08-09         NaN         NaN         NaN         NaN         NaN  ...   \n",
      "2021-08-10         NaN         NaN         NaN         NaN         NaN  ...   \n",
      "2021-08-11         NaN         NaN         NaN         NaN         NaN  ...   \n",
      "\n",
      "            2021-09-11  2021-09-12  2021-09-13  2021-09-14  2021-09-15  \\\n",
      "2021-08-07         NaN         NaN         NaN         NaN         NaN   \n",
      "2021-08-08         NaN         NaN         NaN         NaN         NaN   \n",
      "2021-08-09         NaN         NaN         NaN         NaN         NaN   \n",
      "2021-08-10         NaN         NaN         NaN         NaN         NaN   \n",
      "2021-08-11         NaN         NaN         NaN         NaN         NaN   \n",
      "\n",
      "            2021-09-16  2021-09-17  2021-09-18  2021-09-19  2021-09-20  \n",
      "2021-08-07         NaN         NaN         NaN         NaN         NaN  \n",
      "2021-08-08         NaN         NaN         NaN         NaN         NaN  \n",
      "2021-08-09         NaN         NaN         NaN         NaN         NaN  \n",
      "2021-08-10         NaN         NaN         NaN         NaN         NaN  \n",
      "2021-08-11         NaN         NaN         NaN         NaN         NaN  \n",
      "\n",
      "[5 rows x 45 columns]\n"
     ]
    }
   ],
   "source": [
    "def load_h5_data(file_path):\n",
    "    try:\n",
    "        df = pd.read_hdf(file_path, 'df')\n",
    "        return df\n",
    "    except Exception as e:\n",
    "        print(f\"Error loading file {file_path}: {e}\")\n",
    "        return None\n",
    "\n",
    "# Extract Features\n",
    "def extract_features(h5_data):\n",
    "    if h5_data is not None:\n",
    "        daily_avg_temp = h5_data.mean(axis=1)\n",
    "        daily_avg_temp\n",
    "        if not isinstance(daily_avg_temp.index, pd.DatetimeIndex):\n",
    "            daily_avg_temp.index = pd.to_datetime(daily_avg_temp.index)\n",
    "        return daily_avg_temp.resample('D').mean()\n",
    "    return None\n",
    "\n",
    "# Mapping Dates to File Paths\n",
    "h5_files = {\n",
    "        '2021-08-07': 'IR_data/2021-08-07-0004.h5',\n",
    "    '2021-08-08': 'IR_data/2021-08-08-0004.h5',\n",
    "    '2021-08-09': 'IR_data/2021-08-09-0004.h5',\n",
    "    '2021-08-10': 'IR_data/2021-08-10-0004.h5',\n",
    "    '2021-08-11': 'IR_data/2021-08-11-0004.h5',\n",
    "    '2021-08-12': 'IR_data/2021-08-12-0004.h5',\n",
    "    '2021-08-13': 'IR_data/2021-08-13-0004.h5',\n",
    "    '2021-08-14': 'IR_data/2021-08-14-0004.h5',\n",
    "    '2021-08-15': 'IR_data/2021-08-15-0004.h5',\n",
    "    '2021-08-16': 'IR_data/2021-08-16-0004.h5',\n",
    "    '2021-08-17': 'IR_data/2021-08-17-0004.h5',\n",
    "    '2021-08-18': 'IR_data/2021-08-18-0004.h5',\n",
    "    '2021-08-19': 'IR_data/2021-08-19-0004.h5',\n",
    "    '2021-08-20': 'IR_data/2021-08-20-0004.h5',\n",
    "    '2021-08-21': 'IR_data/2021-08-21-0004.h5',\n",
    "    '2021-08-22': 'IR_data/2021-08-22-0004.h5',\n",
    "    '2021-08-23': 'IR_data/2021-08-23-0004.h5',\n",
    "    '2021-08-24': 'IR_data/2021-08-24-0004.h5',\n",
    "    '2021-08-25': 'IR_data/2021-08-25-0004.h5',\n",
    "    '2021-08-26': 'IR_data/2021-08-26-0004.h5',\n",
    "    '2021-08-27': 'IR_data/2021-08-27-0004.h5',\n",
    "    '2021-08-28': 'IR_data/2021-08-28-0004.h5',\n",
    "    '2021-08-29': 'IR_data/2021-08-29-0004.h5',\n",
    "    '2021-08-30': 'IR_data/2021-08-30-0004.h5',\n",
    "    '2021-08-31': 'IR_data/2021-08-31-0004.h5',\n",
    "    '2021-09-01': 'IR_data/2021-09-01-0004.h5',\n",
    "    '2021-09-02': 'IR_data/2021-09-02-0004.h5',\n",
    "    '2021-09-03': 'IR_data/2021-09-03-0004.h5',\n",
    "    '2021-09-04': 'IR_data/2021-09-04-0004.h5',\n",
    "    '2021-09-05': 'IR_data/2021-09-05-0004.h5',\n",
    "    '2021-09-06': 'IR_data/2021-09-06-0004.h5',\n",
    "    '2021-09-07': 'IR_data/2021-09-07-0004.h5',\n",
    "    '2021-09-08': 'IR_data/2021-09-08-0004.h5',\n",
    "    '2021-09-09': 'IR_data/2021-09-09-0004.h5',\n",
    "    '2021-09-10': 'IR_data/2021-09-10-0004.h5',\n",
    "    '2021-09-11': 'IR_data/2021-09-11-0004.h5',\n",
    "    '2021-09-12': 'IR_data/2021-09-12-0004.h5',\n",
    "    '2021-09-13': 'IR_data/2021-09-13-0004.h5',\n",
    "    '2021-09-14': 'IR_data/2021-09-14-0004.h5',\n",
    "    '2021-09-15': 'IR_data/2021-09-15-0004.h5',\n",
    "    '2021-09-16': 'IR_data/2021-09-16-0004.h5',\n",
    "    '2021-09-17': 'IR_data/2021-09-17-0004.h5',\n",
    "    '2021-09-18': 'IR_data/2021-09-18-0004.h5',\n",
    "    '2021-09-19': 'IR_data/2021-09-19-0004.h5',\n",
    "    '2021-09-20': 'IR_data/2021-09-20-0004.h5',\n",
    "}\n",
    "\n",
    "features = []\n",
    "for date, file_path in h5_files.items():\n",
    "    h5_data = load_h5_data(file_path)\n",
    "    temp_features = extract_features(h5_data)\n",
    "    if temp_features is not None:\n",
    "        temp_features.name = date\n",
    "        features.append(temp_features)\n",
    "\n",
    "# Combine Features\n",
    "if features:\n",
    "    combined_features = pd.concat(features, axis=1).T\n",
    "    training_data = csv_data.join(combined_features)\n",
    "    print(combined_features.head())\n",
    "else:\n",
    "    print(\"No features were extracted.\")"
   ]
  },
  {
   "cell_type": "code",
   "execution_count": 5,
   "id": "6b909689-a42f-4697-aca3-008a7081c346",
   "metadata": {},
   "outputs": [],
   "source": [
    "X = training_data.drop(columns=['score']).reset_index(drop=True)\n",
    "X = X.select_dtypes(include=[np.number])\n",
    "X.columns = X.columns.astype(str)\n",
    "y = training_data['score']\n",
    "\n",
    "# Binarize the target variable for classification\n",
    "y_binary = (y > 0).astype(int)"
   ]
  },
  {
   "cell_type": "code",
   "execution_count": 6,
   "id": "cfd9fb2f-98a4-4613-9b0f-d5027497c3e6",
   "metadata": {},
   "outputs": [],
   "source": [
    "X_train, X_test, y_train, y_test = train_test_split(X, y, test_size=0.1, stratify=y_binary, shuffle=True)\n",
    "\n",
    "# Train the RandomForestRegressor model\n",
    "model = RandomForestRegressor()\n",
    "model.fit(X_train, y_train)\n",
    "y_pred = model.predict(X_test)"
   ]
  },
  {
   "cell_type": "code",
   "execution_count": 7,
   "id": "2da3290f-1cdf-40fd-986b-80af9608197c",
   "metadata": {},
   "outputs": [],
   "source": [
    "new_h5_data = load_h5_data('IR_data/2021-09-21-0004.h5')\n",
    "new_features = extract_features(new_h5_data)\n",
    "if isinstance(new_features, pd.Series):\n",
    "    new_features = new_features.to_frame().T\n",
    "new_features = new_features.reindex(columns=X_train.columns, fill_value=0)\n",
    "new_score_prediction = model.predict(new_features)[0]"
   ]
  },
  {
   "cell_type": "code",
   "execution_count": 8,
   "id": "65dfe984-9a26-4985-a0a8-0c16acb50fa3",
   "metadata": {},
   "outputs": [
    {
     "name": "stdout",
     "output_type": "stream",
     "text": [
      "The condition is predicted to be: worst\n"
     ]
    }
   ],
   "source": [
    "#Prediction\n",
    "if new_score_prediction < 0:\n",
    "    result = \"worst\"\n",
    "elif 0 <= new_score_prediction <= 1:\n",
    "    result = \"no change\"\n",
    "elif new_score_prediction > 1:\n",
    "    result = \"better\"\n",
    "else:\n",
    "    result = \"undefined\"\n",
    "\n",
    "print(f\"The condition is predicted to be: {result}\")"
   ]
  },
  {
   "cell_type": "code",
   "execution_count": 9,
   "id": "83fbb856-d47f-4400-9ad6-4b1f498ba900",
   "metadata": {},
   "outputs": [
    {
     "data": {
      "image/png": "[encoded data removed]",
      "text/plain": [
       "<Figure size 800x600 with 2 Axes>"
      ]
     },
     "metadata": {},
     "output_type": "display_data"
    },
    {
     "name": "stdout",
     "output_type": "stream",
     "text": [
      "AUC-ROC Score: 0.6119\n",
      "Accuracy: 0.5998\n"
     ]
    }
   ],
   "source": [
    "import matplotlib.pyplot as plt\n",
    "import seaborn as sns\n",
    "from sklearn.metrics import confusion_matrix, accuracy_score, roc_auc_score\n",
    "\n",
    "# Train the classifier\n",
    "classifier = RandomForestClassifier()\n",
    "classifier.fit(X_train, (y_train > 0).astype(int))\n",
    "\n",
    "# Predict the binary classes for the test set\n",
    "y_test_binary = (y_test > 0).astype(int)\n",
    "y_pred_binary = classifier.predict(X_test)\n",
    "\n",
    "# Calculate the confusion matrix\n",
    "conf_matrix = confusion_matrix(y_test_binary, y_pred_binary)\n",
    "\n",
    "# Plot the confusion matrix\n",
    "plt.figure(figsize=(8, 6))\n",
    "sns.heatmap(conf_matrix, annot=True, fmt='d', cmap='Blues', xticklabels=['No Improvement', 'Improvement'], yticklabels=['No Improvement', 'Improvement'])\n",
    "plt.xlabel('Predicted')\n",
    "plt.ylabel('Actual')\n",
    "plt.title('Confusion Matrix')\n",
    "plt.show()\n",
    "\n",
    "# Calculate and print AUC-ROC and Accuracy\n",
    "if len(np.unique(y_test_binary)) < 2:\n",
    "    print(\"AUC-ROC cannot be calculated because only one class is present.\")\n",
    "else:\n",
    "    y_pred_proba = classifier.predict_proba(X_test)[:, 1]\n",
    "    aucroc = roc_auc_score(y_test_binary, y_pred_proba)\n",
    "    print(f\"AUC-ROC Score: {aucroc:.4f}\")\n",
    "\n",
    "accuracy = accuracy_score(y_test_binary, y_pred_binary)\n",
    "print(f\"Accuracy: {accuracy:.4f}\")\n"
   ]
  },
  {
   "cell_type": "code",
   "execution_count": 10,
   "id": "4b657eee-797c-4978-b9d9-f3c4c7d052a5",
   "metadata": {},
   "outputs": [
    {
     "name": "stdout",
     "output_type": "stream",
     "text": [
      "Class distribution in y_test_binary: [14482 15327]\n",
      "AUC-ROC Score: 0.6115\n",
      "Accuracy: 0.5998\n"
     ]
    }
   ],
   "source": [
    "classifier = RandomForestClassifier()\n",
    "classifier.fit(X_train, (y_train > 0).astype(int))\n",
    "\n",
    "# Checking class distribution in the test set\n",
    "y_test_binary = (y_test > 0).astype(int)\n",
    "print(f\"Class distribution in y_test_binary: {np.bincount(y_test_binary)}\")\n",
    "\n",
    "if len(np.unique(y_test_binary)) < 2:\n",
    "    print(\"AUC-ROC cannot be calculated because only one class is present.\")\n",
    "else:\n",
    "    y_pred_proba = classifier.predict_proba(X_test)[:, 1]\n",
    "    aucroc = roc_auc_score(y_test_binary, y_pred_proba)\n",
    "    print(f\"AUC-ROC Score: {aucroc:.4f}\")\n",
    "\n",
    "    # Optionally, calculate other metrics\n",
    "    accuracy = accuracy_score(y_test_binary, classifier.predict(X_test))\n",
    "\n",
    "    print(f\"Accuracy: {accuracy:.4f}\")"
   ]
  }
 ],
 "metadata": {
  "kernelspec": {
   "display_name": "Python 3 (ipykernel)",
   "language": "python",
   "name": "python3"
  },
  "language_info": {
   "codemirror_mode": {
    "name": "ipython",
    "version": 3
   },
   "file_extension": ".py",
   "mimetype": "text/x-python",
   "name": "python",
   "nbconvert_exporter": "python",
   "pygments_lexer": "ipython3",
   "version": "3.12.5"
  }
 },
 "nbformat": 4,
 "nbformat_minor": 5
}
